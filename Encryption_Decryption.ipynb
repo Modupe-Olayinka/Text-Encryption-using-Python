{
 "cells": [
  {
   "cell_type": "code",
   "execution_count": 1,
   "id": "598a4874",
   "metadata": {},
   "outputs": [],
   "source": [
    "from cryptography.fernet import Fernet\n",
    "\n",
    "key =Fernet.generate_key()\n",
    "\n",
    "##This is the code to safe the key to a file in a path\n",
    "\n",
    "with open('mykey.key', 'wb') as mykey:\n",
    "    mykey.write(key)\n",
    " \n",
    "# We open the saved key in mykey.key file path and read it to a variable my_key   \n",
    "with open('mykey.key', 'rb') as mykey:\n",
    "    my_key= mykey.read()\n",
    "    #print(my_key)\n",
    "    \n",
    "fernet = Fernet(my_key)\n",
    "path= 'test.txt' # This is the file path where the text to be encrypted is saved\n",
    "\n",
    "#open the file path where the text to be encrypted is saved, read and assign to a variable called original\n",
    "with open(path, 'rb') as original_file:\n",
    "    original =original_file.read()\n",
    "\n",
    "#call the fernet class to encrypt the text and assign to a variable named encrypted_original\n",
    "encrypted_original= fernet.encrypt(original)\n",
    "\n",
    "#save the encrypted text to a file path named enc_original_txt\n",
    "with open('enc_original.txt', 'wb') as encrypted_file:\n",
    "    encrypted_file.write(encrypted_original)\n",
    "    \n",
    "path2= 'enc_original.txt'  #This is the file path where the encrypted text to be decrypted is saved\n",
    "\n",
    "#open the file path where the encrypted text is saved, read and assign to a variable called encrypt\n",
    "with open(path2,'rb')as encrypt_file:\n",
    "    encrypt=encrypt_file.read()\n",
    "    \n",
    "#call the fernet class to decrypt the text and assign to a variable named decrypted\n",
    "decrypted= fernet.decrypt(encrypt)\n",
    "\n",
    "#save the decrypted text to a file path named decrypted.txt\n",
    "with open('decrypted.txt', 'wb') as decrypted_file:\n",
    "    decrypted_file.write(decrypted)"
   ]
  },
  {
   "cell_type": "code",
   "execution_count": null,
   "id": "a55a61b1",
   "metadata": {},
   "outputs": [],
   "source": []
  }
 ],
 "metadata": {
  "kernelspec": {
   "display_name": "Python 3",
   "language": "python",
   "name": "python3"
  },
  "language_info": {
   "codemirror_mode": {
    "name": "ipython",
    "version": 3
   },
   "file_extension": ".py",
   "mimetype": "text/x-python",
   "name": "python",
   "nbconvert_exporter": "python",
   "pygments_lexer": "ipython3",
   "version": "3.8.8"
  }
 },
 "nbformat": 4,
 "nbformat_minor": 5
}
